{
 "cells": [
  {
   "cell_type": "code",
<<<<<<< HEAD
   "execution_count": 1,
=======
   "execution_count": null,
>>>>>>> e97b927469acdec7333c3bf906f7082ff6aeaa2f
   "metadata": {},
   "outputs": [],
   "source": [
    "import pandas as pd\n",
<<<<<<< HEAD
    "from sqlalchemy import create_engine"
=======
    "# from sqlalchemy import create_engine\n",
    "import json\n",
    "import requests\n",
    "from api_key import api_key\n",
    "import time"
   ]
  },
  {
   "cell_type": "code",
   "execution_count": null,
   "metadata": {},
   "outputs": [],
   "source": [
    "# API URL\n",
    "url = (f\"https://sandbox-api.brewerydb.com/v2/beer/WHQisc/ingredients/?key={api_key}\")\n",
    "requests.get(url).json()"
   ]
  },
  {
   "cell_type": "code",
   "execution_count": null,
   "metadata": {},
   "outputs": [],
   "source": [
    "csv_file = \"beer_datafinal.csv\"\n",
    "beer_df = pd.read_csv(csv_file)\n",
    "beer_df.head()"
>>>>>>> e97b927469acdec7333c3bf906f7082ff6aeaa2f
   ]
  },
  {
   "cell_type": "code",
<<<<<<< HEAD
   "execution_count": 3,
   "metadata": {},
   "outputs": [
    {
     "data": {
      "text/html": [
       "<div>\n",
       "<style scoped>\n",
       "    .dataframe tbody tr th:only-of-type {\n",
       "        vertical-align: middle;\n",
       "    }\n",
       "\n",
       "    .dataframe tbody tr th {\n",
       "        vertical-align: top;\n",
       "    }\n",
       "\n",
       "    .dataframe thead th {\n",
       "        text-align: right;\n",
       "    }\n",
       "</style>\n",
       "<table border=\"1\" class=\"dataframe\">\n",
       "  <thead>\n",
       "    <tr style=\"text-align: right;\">\n",
       "      <th></th>\n",
       "      <th>ID</th>\n",
       "      <th>Name</th>\n",
       "      <th>ABV</th>\n",
       "      <th>Style</th>\n",
       "      <th>Is Retired</th>\n",
       "    </tr>\n",
       "  </thead>\n",
       "  <tbody>\n",
       "    <tr>\n",
       "      <th>0</th>\n",
       "      <td>00CxqR</td>\n",
       "      <td>Nut Brown Ale</td>\n",
       "      <td>5.2</td>\n",
       "      <td>North American Origin Ales</td>\n",
       "      <td>N</td>\n",
       "    </tr>\n",
       "    <tr>\n",
       "      <th>1</th>\n",
       "      <td>04k0TG</td>\n",
       "      <td>Casper The Friendly Gose</td>\n",
       "      <td>5.0</td>\n",
       "      <td>German Origin Ales</td>\n",
       "      <td>N</td>\n",
       "    </tr>\n",
       "    <tr>\n",
       "      <th>2</th>\n",
       "      <td>0a0nmv</td>\n",
       "      <td>SweetWater Motor Boat</td>\n",
       "      <td>5.6</td>\n",
       "      <td>British Origin Ales</td>\n",
       "      <td>N</td>\n",
       "    </tr>\n",
       "    <tr>\n",
       "      <th>3</th>\n",
       "      <td>0HZF08</td>\n",
       "      <td>Dark Swan</td>\n",
       "      <td>8.7</td>\n",
       "      <td>North American Origin Ales</td>\n",
       "      <td>N</td>\n",
       "    </tr>\n",
       "    <tr>\n",
       "      <th>4</th>\n",
       "      <td>0I5b84</td>\n",
       "      <td>Double DeBOCKel</td>\n",
       "      <td>9.4</td>\n",
       "      <td>European-germanic Lager</td>\n",
       "      <td>N</td>\n",
       "    </tr>\n",
       "  </tbody>\n",
       "</table>\n",
       "</div>"
      ],
      "text/plain": [
       "       ID                      Name  ABV                       Style  \\\n",
       "0  00CxqR             Nut Brown Ale  5.2  North American Origin Ales   \n",
       "1  04k0TG  Casper The Friendly Gose  5.0          German Origin Ales   \n",
       "2  0a0nmv     SweetWater Motor Boat  5.6         British Origin Ales   \n",
       "3  0HZF08                 Dark Swan  8.7  North American Origin Ales   \n",
       "4  0I5b84           Double DeBOCKel  9.4     European-germanic Lager   \n",
       "\n",
       "  Is Retired  \n",
       "0          N  \n",
       "1          N  \n",
       "2          N  \n",
       "3          N  \n",
       "4          N  "
      ]
     },
     "execution_count": 3,
     "metadata": {},
     "output_type": "execute_result"
    }
   ],
   "source": [
    "csv_file = \"beer_data.1.csv\"\n",
    "customer_data_df = pd.read_csv(csv_file)\n",
    "customer_data_df.head()"
=======
   "execution_count": null,
   "metadata": {},
   "outputs": [],
   "source": [
    "# BEER_df = customer_data_df[['ID', 'Name', 'ABV','Style']].copy()\n",
    "beer_df.head()"
>>>>>>> e97b927469acdec7333c3bf906f7082ff6aeaa2f
   ]
  },
  {
   "cell_type": "code",
   "execution_count": null,
   "metadata": {},
   "outputs": [],
   "source": [
<<<<<<< HEAD
    "rds_connection_string = \"<root>:<password>@127.0.0.1/customer_db\"\n",
    "engine = create_engine(f'mysql://{rds_connection_string}')"
   ]
=======
    "beerId = list(beer_df.values.T.flatten())\n",
    "beerId"
   ]
  },
  {
   "cell_type": "code",
   "execution_count": null,
   "metadata": {},
   "outputs": [],
   "source": [
    "\n",
    "beerdata= []\n",
    "for beer in beerId:\n",
    "    base_url = f\"https://sandbox-api.brewerydb.com/v2/beer/{beerId}/ingredients/?key={api_key}\"\n",
    "    \n",
    "    try:\n",
    "        beer_fact = requests.get(base_url).json()\n",
    "        beer_data.append(beer_fact['data'])\n",
    "        print(f\"Processing Record {record}\")\n",
    "    \n",
    "        # Increase counter by one \n",
    "        record = record + 1\n",
    "    # Skip if the record of the beer is incomplete\n",
    "    except:\n",
    "        print(\"Beer not found. Skipping...\")\n",
    "        pass"
   ]
  },
  {
   "cell_type": "code",
   "execution_count": null,
   "metadata": {},
   "outputs": [],
   "source": []
  },
  {
   "cell_type": "code",
   "execution_count": null,
   "metadata": {},
   "outputs": [],
   "source": []
>>>>>>> e97b927469acdec7333c3bf906f7082ff6aeaa2f
  }
 ],
 "metadata": {
  "kernelspec": {
   "display_name": "Python 3",
   "language": "python",
   "name": "python3"
  },
  "language_info": {
   "codemirror_mode": {
    "name": "ipython",
    "version": 3
   },
   "file_extension": ".py",
   "mimetype": "text/x-python",
   "name": "python",
   "nbconvert_exporter": "python",
   "pygments_lexer": "ipython3",
<<<<<<< HEAD
   "version": "3.6.5"
=======
   "version": "3.7.0"
>>>>>>> e97b927469acdec7333c3bf906f7082ff6aeaa2f
  }
 },
 "nbformat": 4,
 "nbformat_minor": 2
}
