{
 "cells": [
  {
   "cell_type": "code",
   "execution_count": null,
   "metadata": {},
   "outputs": [],
   "source": [
    "import pandas as pd\n",
    "# from sqlalchemy import create_engine\n",
    "import json\n",
    "import requests\n",
    "from api_key import api_key\n",
    "import time"
   ]
  },
  {
   "cell_type": "code",
   "execution_count": null,
   "metadata": {},
   "outputs": [],
   "source": [
    "# API URL\n",
    "url = (f\"https://sandbox-api.brewerydb.com/v2/beer/WHQisc/ingredients/?key={api_key}\")\n",
    "requests.get(url).json()"
   ]
  },
  {
   "cell_type": "code",
   "execution_count": null,
   "metadata": {},
   "outputs": [],
   "source": [
    "csv_file = \"beer_datafinal.csv\"\n",
    "beer_df = pd.read_csv(csv_file)\n",
    "beer_df.head()"
   ]
  },
  {
   "cell_type": "code",
   "execution_count": null,
   "metadata": {},
   "outputs": [],
   "source": [
    "# BEER_df = customer_data_df[['ID', 'Name', 'ABV','Style']].copy()\n",
    "beer_df.head()"
   ]
  },
  {
   "cell_type": "code",
   "execution_count": null,
   "metadata": {},
   "outputs": [],
   "source": [
    "beerId = list(beer_df.values.T.flatten())\n",
    "beerId"
   ]
  },
  {
   "cell_type": "code",
   "execution_count": null,
   "metadata": {},
   "outputs": [],
   "source": [
    "\n",
    "beerdata= []\n",
    "for beer in beerId:\n",
    "    base_url = f\"https://sandbox-api.brewerydb.com/v2/beer/{beerId}/ingredients/?key={api_key}\"\n",
    "    \n",
    "    try:\n",
    "        beer_fact = requests.get(base_url).json()\n",
    "        beer_data.append(beer_fact['data'])\n",
    "        print(f\"Processing Record {record}\")\n",
    "    \n",
    "        # Increase counter by one \n",
    "        record = record + 1\n",
    "    # Skip if the record of the beer is incomplete\n",
    "    except:\n",
    "        print(\"Beer not found. Skipping...\")\n",
    "        pass"
   ]
  },
  {
   "cell_type": "code",
   "execution_count": null,
   "metadata": {},
   "outputs": [],
   "source": []
  },
  {
   "cell_type": "code",
   "execution_count": null,
   "metadata": {},
   "outputs": [],
   "source": []
  }
 ],
 "metadata": {
  "kernelspec": {
   "display_name": "Python 3",
   "language": "python",
   "name": "python3"
  },
  "language_info": {
   "codemirror_mode": {
    "name": "ipython",
    "version": 3
   },
   "file_extension": ".py",
   "mimetype": "text/x-python",
   "name": "python",
   "nbconvert_exporter": "python",
   "pygments_lexer": "ipython3",
   "version": "3.7.0"
  }
 },
 "nbformat": 4,
 "nbformat_minor": 2
}
