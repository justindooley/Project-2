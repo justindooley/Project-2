{
 "cells": [
  {
   "cell_type": "code",
   "execution_count": 4,
   "metadata": {},
   "outputs": [],
   "source": [
    "import pandas as pd\n",
    "import requests\n",
    "from api_key import api_key\n",
    "import time"
   ]
  },
  {
   "cell_type": "code",
   "execution_count": 5,
   "metadata": {},
   "outputs": [],
   "source": [
    "# API URL\n",
    "url = (f\"https://sandbox-api.brewerydb.com/v2/beer/random/?key={api_key}\")"
   ]
  },
  {
   "cell_type": "code",
   "execution_count": null,
   "metadata": {},
   "outputs": [],
   "source": [
    "# Data List\n",
    "beer_data = []\n",
    "\n",
    "# Print begining statement\n",
    "print(\"Beginning Data Retrieval\")\n",
    "print(\"-----------------------------\")\n",
    "\n",
    "# Record tracker\n",
    "record = 1\n",
    "\n",
    "#Loop through the API\n",
    "for beer in range(0, 5999):\n",
    "   \n",
    "    try:\n",
    "        beer_fact = requests.get(url).json()\n",
    "        id = beer_fact['data']['id']\n",
    "        name = beer_fact['data']['name']\n",
    "        abv = beer_fact['data'][\"abv\"]\n",
    "        style = beer_fact['data'][\"style\"][\"category\"]['name']\n",
    "        isRetired = beer_fact['data'][\"isRetired\"]\n",
    "\n",
    "\n",
    "        beer_data.append({\"ID\": id,\n",
    "                          \"Name\": name,\n",
    "                          \"ABV\": abv,\n",
    "                          \"Style\": style,\n",
    "                          \"Is Retired\": isRetired,\n",
    "                          })\n",
    "\n",
    "        print(f\"Processing Record {record} | {name}\")\n",
    "    \n",
    "        # Increase counter by one \n",
    "        record = record + 1\n",
    "    # Skip if the record of the beer is incomplete\n",
    "    except:\n",
    "        print(\"Beer not found. Skipping...\")\n",
    "        pass\n",
    "    \n",
    "# Print the finishing statement\n",
    "print(\"-----------------------------\") \n",
    "print(\"Data Retrieval Complete\")\n",
    "print(\"-----------------------------\")"
   ]
  },
  {
   "cell_type": "code",
   "execution_count": null,
   "metadata": {},
   "outputs": [],
   "source": [
    "# Create a dataframe\n",
    "beer_df = pd.DataFrame(beer_data)\n",
    "\n",
    "beer_df = beer_df [[\"ID\",\"Name\", \"ABV\", \"Style\", \"Is Retired\"]]\n",
    "\n",
    "# Display count of df \n",
    "beer_df.count()\n",
    "\n",
    "# Create csv from df\n",
    "beer_df.to_csv('output_data/beer_data.csv')"
   ]
  },
  {
   "cell_type": "code",
   "execution_count": null,
   "metadata": {},
   "outputs": [],
   "source": [
    "# Display head\n",
    "beer_df.head()"
   ]
  }
 ],
 "metadata": {
  "kernelspec": {
   "display_name": "Python 3",
   "language": "python",
   "name": "python3"
  },
  "language_info": {
   "codemirror_mode": {
    "name": "ipython",
    "version": 3
   },
   "file_extension": ".py",
   "mimetype": "text/x-python",
   "name": "python",
   "nbconvert_exporter": "python",
   "pygments_lexer": "ipython3",
   "version": "3.6.5"
  }
 },
 "nbformat": 4,
 "nbformat_minor": 2
}
